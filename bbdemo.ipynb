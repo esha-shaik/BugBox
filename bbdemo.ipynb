{
 "cells": [
  {
   "cell_type": "markdown",
   "id": "c8bab868",
   "metadata": {},
   "source": [
    "# BugBox Simple Demo"
   ]
  },
  {
   "cell_type": "code",
   "execution_count": null,
   "id": "dae5b845",
   "metadata": {},
   "outputs": [],
   "source": [
    "# BugBox\n",
    "# Description: Reproducible setup and testing notebook for system observability, failure injection, and monitoring\n",
    "\n",
    "import os\n",
    "import json\n",
    "import requests\n",
    "from IPython.display import Markdown, display\n",
    "import ipywidgets as widgets"
   ]
  },
  {
   "cell_type": "code",
   "execution_count": 8,
   "id": "c47c6785",
   "metadata": {},
   "outputs": [
    {
     "data": {
      "text/markdown": [
       "# Failure Injection Demo"
      ],
      "text/plain": [
       "<IPython.core.display.Markdown object>"
      ]
     },
     "metadata": {},
     "output_type": "display_data"
    },
    {
     "data": {
      "text/markdown": [
       "This notebook lets you simulate bugs/failures in a microservice architecture to observe system behavior. All services are deployed with Docker Compose."
      ],
      "text/plain": [
       "<IPython.core.display.Markdown object>"
      ]
     },
     "metadata": {},
     "output_type": "display_data"
    },
    {
     "data": {
      "text/markdown": [
       "## Requirements"
      ],
      "text/plain": [
       "<IPython.core.display.Markdown object>"
      ]
     },
     "metadata": {},
     "output_type": "display_data"
    },
    {
     "data": {
      "text/markdown": [
       "Make sure to run `docker-compose up` in the project directory before using this notebook."
      ],
      "text/plain": [
       "<IPython.core.display.Markdown object>"
      ]
     },
     "metadata": {},
     "output_type": "display_data"
    }
   ],
   "source": [
    "def md(text):\n",
    "    display(Markdown(text))\n",
    "\n",
    "# Project Overview\n",
    "md(\"# Failure Injection Demo\")\n",
    "md(\"This notebook lets you simulate bugs/failures in a microservice architecture to observe system behavior. All services are deployed with Docker Compose.\")\n",
    "\n",
    "md(\"## Requirements\")\n",
    "md(\"Make sure to run `docker-compose up` in the project directory before using this notebook.\")\n",
    "\n",
    "# Endpoint setup\n",
    "BASE_URL = \"http://localhost:5001/inject/failure\""
   ]
  },
  {
   "cell_type": "code",
   "execution_count": 9,
   "id": "4a0cd053",
   "metadata": {},
   "outputs": [],
   "source": [
    "# Dropdown: Failure Types\n",
    "failure_type_dropdown = widgets.Dropdown(\n",
    "    options=['crash', 'latency', 'cpu', 'memory'],\n",
    "    value='crash',\n",
    "    description='Failure Type:',\n",
    ")\n",
    "\n",
    "# Target service input\n",
    "target_service_input = widgets.Text(\n",
    "    value='user_service',\n",
    "    description='Target Service:',\n",
    ")\n",
    "\n",
    "# Duration / Delay input\n",
    "duration_input = widgets.IntSlider(\n",
    "    value=30,\n",
    "    min=1,\n",
    "    max=60,\n",
    "    step=1,\n",
    "    description='Duration (s):'\n",
    ")\n",
    "\n",
    "# Delay in ms if type is latency\n",
    "delay_input = widgets.IntText(\n",
    "    value=1000,\n",
    "    description='Delay (ms):'\n",
    ")"
   ]
  },
  {
   "cell_type": "code",
   "execution_count": 10,
   "id": "4e1aaf86",
   "metadata": {},
   "outputs": [],
   "source": [
    "# Function to simulate bug\n",
    "def simulate_bug(failure_type, target_service, duration, delay_ms):\n",
    "    try:\n",
    "        payload = {\n",
    "            \"type\": failure_type,\n",
    "            \"target\": target_service,\n",
    "        }\n",
    "\n",
    "        if failure_type == 'latency':\n",
    "            payload[\"delay\"] = delay_ms\n",
    "        else:\n",
    "            payload[\"duration\"] = duration\n",
    "\n",
    "        response = requests.post(BASE_URL, json=payload)\n",
    "        response.raise_for_status()\n",
    "        md(\"### Failure injected successfully!\")\n",
    "        display(response.json())\n",
    "    except Exception as e:\n",
    "        md(\"### Failed to inject failure. Make sure `bug_simulator` is running.\")\n",
    "        print(str(e))\n",
    "\n",
    "# Handler\n",
    "def on_button_clicked(b):\n",
    "    simulate_bug(\n",
    "        failure_type_dropdown.value,\n",
    "        target_service_input.value,\n",
    "        duration_input.value,\n",
    "        delay_input.value\n",
    "    )"
   ]
  },
  {
   "cell_type": "code",
   "execution_count": 11,
   "id": "d9690146",
   "metadata": {},
   "outputs": [
    {
     "data": {
      "text/markdown": [
       "## Choose Failure Type and Target"
      ],
      "text/plain": [
       "<IPython.core.display.Markdown object>"
      ]
     },
     "metadata": {},
     "output_type": "display_data"
    },
    {
     "data": {
      "application/vnd.jupyter.widget-view+json": {
       "model_id": "96ffd22cce6d44baa6f736e4e06ef896",
       "version_major": 2,
       "version_minor": 0
      },
      "text/plain": [
       "VBox(children=(Dropdown(description='Failure Type:', options=('crash', 'latency', 'cpu', 'memory'), value='cra…"
      ]
     },
     "execution_count": 11,
     "metadata": {},
     "output_type": "execute_result"
    }
   ],
   "source": [
    "# Button to trigger\n",
    "trigger_button = widgets.Button(\n",
    "    description=\"Inject Failure\",\n",
    "    button_style='danger',\n",
    ")\n",
    "\n",
    "trigger_button.on_click(on_button_clicked)\n",
    "\n",
    "# Display UI\n",
    "md(\"## Choose Failure Type and Target\")\n",
    "widgets.VBox([\n",
    "    failure_type_dropdown,\n",
    "    target_service_input,\n",
    "    duration_input,\n",
    "    delay_input,\n",
    "    trigger_button\n",
    "])\n"
   ]
  }
 ],
 "metadata": {
  "kernelspec": {
   "display_name": "Python 3",
   "language": "python",
   "name": "python3"
  },
  "language_info": {
   "codemirror_mode": {
    "name": "ipython",
    "version": 3
   },
   "file_extension": ".py",
   "mimetype": "text/x-python",
   "name": "python",
   "nbconvert_exporter": "python",
   "pygments_lexer": "ipython3",
   "version": "3.12.10"
  }
 },
 "nbformat": 4,
 "nbformat_minor": 5
}
